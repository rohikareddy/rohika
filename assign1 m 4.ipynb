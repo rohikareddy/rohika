{
 "cells": [
  {
   "cell_type": "code",
   "execution_count": 10,
   "metadata": {},
   "outputs": [
    {
     "name": "stdout",
     "output_type": "stream",
     "text": [
      "1\n",
      "2\n",
      "Fizz\n",
      "4\n",
      "Buzz\n",
      "Fizz\n",
      "7\n",
      "8\n",
      "Fizz\n",
      "Buzz\n",
      "11\n",
      "Fizz\n",
      "13\n",
      "14\n",
      "FizzBuzz\n",
      "16\n",
      "17\n",
      "Fizz\n",
      "19\n",
      "Buzz\n",
      "Fizz\n",
      "22\n",
      "23\n",
      "Fizz\n",
      "Buzz\n",
      "26\n",
      "Fizz\n",
      "28\n",
      "29\n",
      "FizzBuzz\n",
      "31\n",
      "32\n",
      "Fizz\n",
      "34\n",
      "Buzz\n",
      "Fizz\n",
      "37\n",
      "38\n",
      "Fizz\n",
      "Buzz\n",
      "41\n",
      "Fizz\n",
      "43\n",
      "44\n",
      "FizzBuzz\n",
      "46\n",
      "47\n",
      "Fizz\n",
      "49\n",
      "Buzz\n",
      "Fizz\n",
      "52\n",
      "53\n",
      "Fizz\n",
      "Buzz\n",
      "56\n",
      "Fizz\n",
      "58\n",
      "59\n",
      "FizzBuzz\n",
      "61\n",
      "62\n",
      "Fizz\n",
      "64\n",
      "Buzz\n",
      "Fizz\n",
      "67\n",
      "68\n",
      "Fizz\n",
      "Buzz\n",
      "71\n",
      "Fizz\n",
      "73\n",
      "74\n",
      "FizzBuzz\n",
      "76\n",
      "77\n",
      "Fizz\n",
      "79\n",
      "Buzz\n",
      "Fizz\n",
      "82\n",
      "83\n",
      "Fizz\n",
      "Buzz\n",
      "86\n",
      "Fizz\n",
      "88\n",
      "89\n",
      "FizzBuzz\n",
      "91\n",
      "92\n",
      "Fizz\n",
      "94\n",
      "Buzz\n",
      "Fizz\n",
      "97\n",
      "98\n",
      "Fizz\n",
      "Buzz\n"
     ]
    }
   ],
   "source": [
    "#1.program that prints the integer from 1 to 100. But multiples of three print \"Fizz\" insted of the number,and for the multiples\n",
    "#of five print \"buzz\". For numbers which are multplies of both three and five print \"FizzBuzz\".\n",
    "a=list(range(1,101))\n",
    "for i in a:\n",
    "    if i%3==0 and i%5==0:\n",
    "        print('FizzBuzz')\n",
    "    elif i%3==0:\n",
    "        print('Fizz')\n",
    "    elif i%5==0:\n",
    "        print('Buzz')\n",
    "    else:\n",
    "        print(i)"
   ]
  },
  {
   "cell_type": "code",
   "execution_count": 6,
   "metadata": {},
   "outputs": [
    {
     "name": "stdout",
     "output_type": "stream",
     "text": [
      "Before removing consecutive duplicates:\n",
      "List: [10, 10, 20, 30, 30, 20, 20]\n",
      "After removing consecutive duplicates:\n",
      "List: [10, 20, 30, 20]\n"
     ]
    }
   ],
   "source": [
    "#2.program to remove consecutive duplicates from list\n",
    "l1=[10,10,20,30,30,20,20]\n",
    "print(\"Before removing consecutive duplicates:\")\n",
    "print(\"List:\",l1)\n",
    "l=len(l1)\n",
    "l2=[]\n",
    "i=0\n",
    "while i<l-1:\n",
    "    j=i+1\n",
    "    if l1[i]==l1[j]:\n",
    "        l2.append(l1[i])\n",
    "        i+=2\n",
    "    else:\n",
    "        l2.append(l1[i])\n",
    "        i+=1\n",
    "while i<l:\n",
    "    l2.append(l1[i])\n",
    "    i+=1\n",
    "print(\"After removing consecutive duplicates:\")\n",
    "print(\"List:\",l2)"
   ]
  },
  {
   "cell_type": "code",
   "execution_count": 11,
   "metadata": {},
   "outputs": [
    {
     "name": "stdout",
     "output_type": "stream",
     "text": [
      "List: [10, 20, 30, 40, 10, 20, 30, 40]\n",
      "unique elements in list:\n",
      "List: [10, 20, 30, 40]\n"
     ]
    }
   ],
   "source": [
    "#3.program to find unique element from list\n",
    "l1=[10,20,30,40,10,20,30,40]\n",
    "print(\"List:\",l1)\n",
    "l2=list()\n",
    "for i in l1:\n",
    "    if i not in l2:\n",
    "        l2.append(i)\n",
    "    else:\n",
    "        continue\n",
    "print(\"unique elements in list:\")\n",
    "print(\"List:\",l2)"
   ]
  },
  {
   "cell_type": "code",
   "execution_count": 6,
   "metadata": {},
   "outputs": [
    {
     "name": "stdout",
     "output_type": "stream",
     "text": [
      "Enter a number:4\n",
      "Enter upper range:9\n",
      "Enter lower range:0\n",
      "number is in given range\n"
     ]
    }
   ],
   "source": [
    "#4.program to check number is in given range or not\n",
    "def ran(num):\n",
    "    h=int(input(\"Enter upper range:\"))\n",
    "    l=int(input(\"Enter lower range:\"))\n",
    "    if num>h:\n",
    "        print(\"number is not in given range it is high\")\n",
    "    elif num<l:\n",
    "        print(\"number is not in given range it is low\")\n",
    "    else:\n",
    "        print(\"number is in given range\")\n",
    "a=int(input(\"Enter a number:\"))\n",
    "ran(a)"
   ]
  },
  {
   "cell_type": "code",
   "execution_count": 10,
   "metadata": {},
   "outputs": [
    {
     "name": "stdout",
     "output_type": "stream",
     "text": [
      "Enter a string:Rohika Reddy\n",
      "No.of upper case letters: 2\n",
      "No.of lower case letters: 9\n"
     ]
    }
   ],
   "source": [
    "#5.program that caluclates the no of uppercase and lowercase letters in a given string\n",
    "def cal(a):\n",
    "    u=0\n",
    "    l=0\n",
    "    for i in a:\n",
    "        if i.isupper():\n",
    "            u+=1\n",
    "        if i.islower():\n",
    "            l+=1\n",
    "    print(\"No.of upper case letters:\",u)\n",
    "    print(\"No.of lower case letters:\",l)\n",
    "s=input(\"Enter a string:\")\n",
    "cal(s)\n"
   ]
  },
  {
   "cell_type": "code",
   "execution_count": null,
   "metadata": {},
   "outputs": [],
   "source": []
  },
  {
   "cell_type": "code",
   "execution_count": null,
   "metadata": {},
   "outputs": [],
   "source": []
  },
  {
   "cell_type": "code",
   "execution_count": null,
   "metadata": {},
   "outputs": [],
   "source": []
  },
  {
   "cell_type": "code",
   "execution_count": null,
   "metadata": {},
   "outputs": [],
   "source": []
  }
 ],
 "metadata": {
  "kernelspec": {
   "display_name": "Python 3",
   "language": "python",
   "name": "python3"
  },
  "language_info": {
   "codemirror_mode": {
    "name": "ipython",
    "version": 3
   },
   "file_extension": ".py",
   "mimetype": "text/x-python",
   "name": "python",
   "nbconvert_exporter": "python",
   "pygments_lexer": "ipython3",
   "version": "3.8.3"
  }
 },
 "nbformat": 4,
 "nbformat_minor": 4
}
