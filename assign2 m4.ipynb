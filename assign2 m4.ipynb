{
 "cells": [
  {
   "cell_type": "code",
   "execution_count": 15,
   "metadata": {},
   "outputs": [
    {
     "name": "stdout",
     "output_type": "stream",
     "text": [
      "hi, hello gitamites!!!!\n",
      "\n",
      "hello\n",
      "\n",
      "gitam\n",
      "\n",
      "cse\n",
      "\n",
      "b2\n",
      "\n",
      "rohika\n",
      "\n",
      "This is python assignment\n",
      "\n"
     ]
    }
   ],
   "source": [
    "#1.Write a Python program to read an entire text file.\n",
    "my_file=open(\"test.txt\",\"r\")\n",
    "for line in my_file:\n",
    "    print(line)\n",
    "my_file.close()   "
   ]
  },
  {
   "cell_type": "code",
   "execution_count": 16,
   "metadata": {},
   "outputs": [
    {
     "name": "stdout",
     "output_type": "stream",
     "text": [
      "Enter no.of lines to read:4\n",
      "hi, hello gitamites!!!!\n",
      "\n",
      "hello\n",
      "\n",
      "gitam\n",
      "\n",
      "cse\n",
      "\n"
     ]
    }
   ],
   "source": [
    "#2.Write a Python program to read first n lines of a file.\n",
    "my_file=open(\"test.txt\",\"r\")\n",
    "n=int(input(\"Enter no.of lines to read:\"))\n",
    "i=0\n",
    "for line in my_file:\n",
    "    if i<n:\n",
    "        print(line)\n",
    "        i+=1\n",
    "    else:\n",
    "        break\n",
    "my_file.close()"
   ]
  },
  {
   "cell_type": "code",
   "execution_count": 19,
   "metadata": {},
   "outputs": [
    {
     "name": "stdout",
     "output_type": "stream",
     "text": [
      "hi, hello gitamites!!!!\n",
      "\n",
      "hello\n",
      "\n",
      "gitam\n",
      "\n",
      "cse\n",
      "\n",
      "b2\n",
      "\n",
      "rohika\n",
      "\n",
      "This is python assignment\n",
      "\n",
      "This is python assignment\n",
      "\n",
      "GITAM University\n",
      "\n"
     ]
    }
   ],
   "source": [
    "#3.Write a Python program to append text to a file and display the text. \n",
    "my_file=open(\"test.txt\",\"a\")\n",
    "my_file.write(\"GITAM University\\n\")\n",
    "my_file1=open(\"test.txt\",\"r\")\n",
    "for line in my_file1:\n",
    "    print(line)\n",
    "my_file.close()\n",
    "my_file1.close()"
   ]
  },
  {
   "cell_type": "code",
   "execution_count": 22,
   "metadata": {},
   "outputs": [
    {
     "name": "stdout",
     "output_type": "stream",
     "text": [
      "Enter no.of lines to read:4\n",
      "This is python assignment\n",
      "\n",
      "This is python assignment\n",
      "\n",
      "GITAM University\n",
      "\n",
      "GITAM University\n",
      "\n"
     ]
    }
   ],
   "source": [
    "#4. Write a Python program to read last n lines of a file.\n",
    "my_file=open(\"test.txt\",\"r\")\n",
    "n=int(input(\"Enter no.of lines to read:\"))\n",
    "for line in (my_file.readlines()[-n:]):\n",
    "    print(line)\n",
    "my_file.close()"
   ]
  },
  {
   "cell_type": "code",
   "execution_count": 32,
   "metadata": {},
   "outputs": [
    {
     "name": "stdout",
     "output_type": "stream",
     "text": [
      "hi, hello gitamites!!!!\n",
      "hello\n",
      "gitam\n",
      "cse\n",
      "b2\n",
      "rohika\n",
      "This is python assignment\n",
      "This is python assignment\n",
      "GITAM University\n",
      "GITAM University\n",
      "\n"
     ]
    }
   ],
   "source": [
    "#5.Write a Python program to read a file line by line store it into a variable. \n",
    "my_file=open(\"test.txt\",\"r\")\n",
    "a=\"\"\n",
    "for line in my_file:\n",
    "    a=a+line\n",
    "print(a)\n",
    "my_file.close()"
   ]
  },
  {
   "cell_type": "code",
   "execution_count": 34,
   "metadata": {},
   "outputs": [
    {
     "name": "stdout",
     "output_type": "stream",
     "text": [
      "['hi, hello gitamites!!!!\\n', 'hello\\n', 'gitam\\n', 'cse\\n', 'b2\\n', 'rohika\\n', 'This is python assignment\\n', 'This is python assignment\\n', 'GITAM University\\n', 'GITAM University\\n']\n"
     ]
    }
   ],
   "source": [
    "#6.Write a Python program to read a file line by line and store it into a list. \n",
    "my_file=open(\"test.txt\",\"r\")\n",
    "l=[]\n",
    "for line in my_file:\n",
    "    l.append(line)\n",
    "print(l)\n",
    "my_file.close()"
   ]
  },
  {
   "cell_type": "code",
   "execution_count": 37,
   "metadata": {},
   "outputs": [
    {
     "name": "stdout",
     "output_type": "stream",
     "text": [
      "['hi, hello gitamites!!!!\\n', 'hello\\n', 'gitam\\n', 'cse\\n', 'b2\\n', 'rohika\\n', 'This is python assignment\\n', 'This is python assignment\\n', 'GITAM University\\n', 'GITAM University\\n']\n"
     ]
    }
   ],
   "source": [
    "#7. Write a Python program to read a file line by line store it into an array. \n",
    "my_file=open(\"test.txt\",\"r\")\n",
    "l=[]\n",
    "for line in my_file:\n",
    "    l.append(line)\n",
    "print(l)\n",
    "my_file.close()"
   ]
  },
  {
   "cell_type": "code",
   "execution_count": 45,
   "metadata": {
    "scrolled": true
   },
   "outputs": [
    {
     "name": "stdout",
     "output_type": "stream",
     "text": [
      "No.of lines in test.txt: 10\n"
     ]
    }
   ],
   "source": [
    "#8. Write a Python program to count the number of lines in a text file. \n",
    "my_file=open(\"test.txt\",\"r\")\n",
    "count=0\n",
    "for line in my_file:\n",
    "    count+=1\n",
    "print(\"No.of lines in test.txt:\",count)"
   ]
  },
  {
   "cell_type": "code",
   "execution_count": 44,
   "metadata": {},
   "outputs": [
    {
     "name": "stdout",
     "output_type": "stream",
     "text": [
      "Size of test.txt: 0 bytes\n",
      "Size of test1.txt: 146 bytes\n"
     ]
    }
   ],
   "source": [
    "#9. Write a Python program to get the file size of a plain file.\n",
    "import os\n",
    "size=os.path.getsize(\"test1.txt\")\n",
    "size1=os.path.getsize(\"test.txt\")\n",
    "print(\"Size of test.txt:\",size,\"bytes\")\n",
    "print(\"Size of test1.txt:\",size1,\"bytes\")"
   ]
  },
  {
   "cell_type": "code",
   "execution_count": 43,
   "metadata": {},
   "outputs": [
    {
     "name": "stdout",
     "output_type": "stream",
     "text": [
      "hi, hello gitamites!!!!\n",
      "\n",
      "hello\n",
      "\n",
      "gitam\n",
      "\n",
      "cse\n",
      "\n",
      "b2\n",
      "\n",
      "rohika\n",
      "\n",
      "This is python assignment\n",
      "\n",
      "This is python assignment\n",
      "\n",
      "GITAM University\n",
      "\n",
      "GITAM University\n",
      "\n"
     ]
    }
   ],
   "source": [
    "#10.Write a Python program to copy the contents of a file to another file .\n",
    "my_file1=open(\"test.txt\",\"r\")\n",
    "my_file2=open(\"test1.txt\",\"w\")\n",
    "for line in my_file1:\n",
    "    my_file2.write(line)\n",
    "my_file2=open(\"test1.txt\",\"r\")\n",
    "for line in my_file2:\n",
    "    print(line)\n",
    "my_file1.close()\n",
    "my_file2.close()\n",
    "my_file3.close()"
   ]
  },
  {
   "cell_type": "code",
   "execution_count": 33,
   "metadata": {},
   "outputs": [
    {
     "name": "stdout",
     "output_type": "stream",
     "text": [
      "45\n"
     ]
    }
   ],
   "source": [
    "#11. Write a Python program to sum all the items in a list. \n",
    "l=[1,2,3,4,5,6,7,8,9]\n",
    "sum=0\n",
    "for i in l:\n",
    "    sum=sum+i\n",
    "print(sum)"
   ]
  },
  {
   "cell_type": "code",
   "execution_count": 9,
   "metadata": {},
   "outputs": [
    {
     "name": "stdout",
     "output_type": "stream",
     "text": [
      "6\n"
     ]
    }
   ],
   "source": [
    "#12. Write a Python program to multiplies all the items in a list.\n",
    "l=[1,2,3]\n",
    "pro=1\n",
    "for i in l:\n",
    "    pro=pro*i\n",
    "print(pro)"
   ]
  },
  {
   "cell_type": "code",
   "execution_count": 11,
   "metadata": {},
   "outputs": [
    {
     "name": "stdout",
     "output_type": "stream",
     "text": [
      "Smallest value in list: 1\n",
      "largest value in list: 10\n"
     ]
    }
   ],
   "source": [
    "#13.Write a Python program to get the largest & smallest number from a list.\n",
    "l=[1,2,3,4,5,6,7,8,9,10]\n",
    "s=l[0]\n",
    "h=l[0]\n",
    "for i in l:\n",
    "    if s>i:\n",
    "        s=i\n",
    "    if h<i:\n",
    "        h=i\n",
    "print(\"Smallest value in list:\",s)\n",
    "print(\"largest value in list:\",h)"
   ]
  },
  {
   "cell_type": "code",
   "execution_count": 13,
   "metadata": {},
   "outputs": [
    {
     "name": "stdout",
     "output_type": "stream",
     "text": [
      "After removing duplicates:\n",
      "List: [10, 20, 30, 40]\n"
     ]
    }
   ],
   "source": [
    "#14.Write a Python program to remove duplicates from a list.\n",
    "l1=[10,20,30,40,10,20,30,40]\n",
    "l2=[]\n",
    "for i in l1:\n",
    "    if i not in l2:\n",
    "        l2.append(i)\n",
    "    else:\n",
    "        continue\n",
    "print(\"After removing duplicates:\")\n",
    "print(\"List:\",l2)"
   ]
  },
  {
   "cell_type": "code",
   "execution_count": 15,
   "metadata": {},
   "outputs": [
    {
     "name": "stdout",
     "output_type": "stream",
     "text": [
      "List is empty\n"
     ]
    }
   ],
   "source": [
    "#15. Write a Python program to check a list is empty or not.\n",
    "l=[]\n",
    "if len(l)==0:\n",
    "    print(\"List is empty\")\n",
    "else:\n",
    "    print(\"List is not empty\")"
   ]
  },
  {
   "cell_type": "code",
   "execution_count": 17,
   "metadata": {},
   "outputs": [
    {
     "name": "stdout",
     "output_type": "stream",
     "text": [
      "[10, 20, 30, 40]\n"
     ]
    }
   ],
   "source": [
    "#16.  Write a Python program to clone or copy a list. \n",
    "l1=[10,20,30,40]\n",
    "l2=[]\n",
    "for i in l1:\n",
    "    l2.append(i)\n",
    "print(l2)"
   ]
  },
  {
   "cell_type": "code",
   "execution_count": 20,
   "metadata": {},
   "outputs": [
    {
     "name": "stdout",
     "output_type": "stream",
     "text": [
      "After removing 0th,4th and 5th positions:\n",
      "List: ['Green', 'White', 'Black']\n"
     ]
    }
   ],
   "source": [
    "#17. Write a Python program to print a specified list after removing the 0th, 4th and 5th elements.\n",
    "l1= ['Red','Green','White','Black','Pink','Yellow']\n",
    "l2=[]\n",
    "i=0\n",
    "while i<len(l1):\n",
    "    if i==0 or i==4 or i==5:\n",
    "        i+=1\n",
    "        continue\n",
    "    else:\n",
    "        l2.append(l1[i])\n",
    "        i+=1\n",
    "print(\"After removing 0th,4th and 5th positions:\")\n",
    "print(\"List:\",l2)"
   ]
  },
  {
   "cell_type": "code",
   "execution_count": 22,
   "metadata": {},
   "outputs": [
    {
     "name": "stdout",
     "output_type": "stream",
     "text": [
      "After removing even numbers from list:\n",
      "List: [1, 3, 5, 7, 9]\n"
     ]
    }
   ],
   "source": [
    "#18. Write a Python program to print the numbers of a specified list after removing even numbers from it.\n",
    "l1=[1,2,3,4,5,6,7,8,9,10]\n",
    "l2=[]\n",
    "for i in l1:\n",
    "    if i%2==0:\n",
    "        continue\n",
    "    else:\n",
    "        l2.append(i)\n",
    "print(\"After removing even numbers from list:\")\n",
    "print(\"List:\",l2)"
   ]
  },
  {
   "cell_type": "code",
   "execution_count": 25,
   "metadata": {},
   "outputs": [
    {
     "name": "stdout",
     "output_type": "stream",
     "text": [
      "[6, 7, 10, 1, 3, 8, 4, 2, 9, 5]\n"
     ]
    }
   ],
   "source": [
    "#19. Write a Python program to shuffle and print a specified list.\n",
    "from random import shuffle\n",
    "l=[1,2,3,4,5,6,7,8,9,10]\n",
    "shuffle(l)\n",
    "print(l)"
   ]
  },
  {
   "cell_type": "code",
   "execution_count": 30,
   "metadata": {},
   "outputs": [
    {
     "name": "stdout",
     "output_type": "stream",
     "text": [
      "Difference between two lists: [9, 18, 27, 36, 45, 54, 63, 72, 81, 90]\n"
     ]
    }
   ],
   "source": [
    "#20. Write a Python program to get the difference between the two lists.\n",
    "l1=[10,20,30,40,50,60,70,80,90,100]\n",
    "l2=[1,2,3,4,5,6,7,8,9,10]\n",
    "l3=[]\n",
    "if len(l1)==len(l2):\n",
    "    i,j=0,0\n",
    "    while i<len(l1) and j<len(l2):\n",
    "        l3.append(l1[i]-l2[j])\n",
    "        i+=1\n",
    "        j+=1\n",
    "    print(\"Difference between two lists:\",l3)\n",
    "else:\n",
    "    print(\"No.of elements are different.Not able to do difference\")"
   ]
  },
  {
   "cell_type": "code",
   "execution_count": null,
   "metadata": {},
   "outputs": [],
   "source": []
  },
  {
   "cell_type": "code",
   "execution_count": null,
   "metadata": {},
   "outputs": [],
   "source": []
  }
 ],
 "metadata": {
  "kernelspec": {
   "display_name": "Python 3",
   "language": "python",
   "name": "python3"
  },
  "language_info": {
   "codemirror_mode": {
    "name": "ipython",
    "version": 3
   },
   "file_extension": ".py",
   "mimetype": "text/x-python",
   "name": "python",
   "nbconvert_exporter": "python",
   "pygments_lexer": "ipython3",
   "version": "3.8.3"
  }
 },
 "nbformat": 4,
 "nbformat_minor": 4
}
