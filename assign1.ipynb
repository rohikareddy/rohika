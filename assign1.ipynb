{
 "cells": [
  {
   "cell_type": "code",
   "execution_count": 6,
   "metadata": {},
   "outputs": [
    {
     "name": "stdout",
     "output_type": "stream",
     "text": [
      "enter value1:4\n",
      "enter value2:4\n",
      "enter operation in wordsdjfs\n",
      "enter valid operation name\n"
     ]
    }
   ],
   "source": [
    "#1.progarm to design simple caluclator\n",
    "v1=float(input('enter value1:'))\n",
    "v2=float(input('enter value2:'))\n",
    "ans=input('enter operation in words')\n",
    "if ans=='addition':\n",
    "    print(v1+v2)\n",
    "elif ans=='subtraction':\n",
    "     print(v1-v2)\n",
    "elif ans=='multiplication':\n",
    "     print(v1*v2)\n",
    "elif ans=='division':\n",
    "     print(v1/v2)\n",
    "elif ans=='modulus':\n",
    "     print(v1%v2)\n",
    "elif ans=='exponent':\n",
    "     print(v1**v2)\n",
    "elif ans=='floor division':\n",
    "     print(v1//v2) \n",
    "else:\n",
    "    print('enter valid operation name')"
   ]
  },
  {
   "cell_type": "code",
   "execution_count": 5,
   "metadata": {},
   "outputs": [
    {
     "name": "stdout",
     "output_type": "stream",
     "text": [
      "enter principle:4\n",
      "enter time:5\n",
      "enter rate:6\n",
      "simple_interest= 1.2\n"
     ]
    }
   ],
   "source": [
    "#2.program to caluclate simple interest\n",
    "principle=int(input('enter principle:'))\n",
    "time=float(input('enter time:'))\n",
    "rate=float(input('enter rate:'))\n",
    "print('simple_interest=',(principle*time*rate)/100)"
   ]
  },
  {
   "cell_type": "code",
   "execution_count": 9,
   "metadata": {},
   "outputs": [
    {
     "name": "stdout",
     "output_type": "stream",
     "text": [
      "enter the radius:1\n",
      "the area of circle= 3.14\n"
     ]
    }
   ],
   "source": [
    "#3.program to caluclate area of circle\n",
    "radius=float(input('enter the radius:'))\n",
    "pi=3.14\n",
    "print('the area of circle=',(pi*radius*radius))"
   ]
  },
  {
   "cell_type": "code",
   "execution_count": 11,
   "metadata": {},
   "outputs": [
    {
     "name": "stdout",
     "output_type": "stream",
     "text": [
      "enter the base:2\n",
      "enter the height:2\n",
      "the area of rectangle= 2.0\n"
     ]
    }
   ],
   "source": [
    "#4.program to caluclate area of triangle\n",
    "base=float(input('enter the base:'))\n",
    "height=float(input('enter the height:'))\n",
    "print('the area of triangle=',(0.5*base*height))"
   ]
  },
  {
   "cell_type": "code",
   "execution_count": 14,
   "metadata": {},
   "outputs": [
    {
     "name": "stdout",
     "output_type": "stream",
     "text": [
      "enter the temparature in celsius:39\n",
      "temparuture in fahrenheit= 102.2\n"
     ]
    }
   ],
   "source": [
    "#5.program to convert temparature from celsius to fahrenheit\n",
    "celsius=float(input('enter the temparature in celsius:'))\n",
    "print('temparuture in fahrenheit=',((celsius*9/5)+32))"
   ]
  },
  {
   "cell_type": "code",
   "execution_count": 16,
   "metadata": {},
   "outputs": [
    {
     "name": "stdout",
     "output_type": "stream",
     "text": [
      "enter the length:5\n",
      "enter the breath:5\n",
      "the area of rectangle= 25.0\n"
     ]
    }
   ],
   "source": [
    "#6.program to caluclate area of rectangle\n",
    "length=float(input('enter the length:'))\n",
    "breath=float(input('enter the breath:'))\n",
    "print('the area of rectangle=',length*breath)"
   ]
  },
  {
   "cell_type": "code",
   "execution_count": 17,
   "metadata": {},
   "outputs": [
    {
     "name": "stdout",
     "output_type": "stream",
     "text": [
      "enter the side:4\n",
      "the perimeter of square= 16.0\n"
     ]
    }
   ],
   "source": [
    "#7.program to caluclate perimeter of square\n",
    "side=float(input('enter the side:'))\n",
    "print('the perimeter of square=',(4*side))"
   ]
  },
  {
   "cell_type": "code",
   "execution_count": 19,
   "metadata": {},
   "outputs": [
    {
     "name": "stdout",
     "output_type": "stream",
     "text": [
      "enter the radius:1\n",
      "the area of circle= 6.28\n"
     ]
    }
   ],
   "source": [
    "#8.program to caluclate circumference of circle\n",
    "radius=float(input('enter the radius:'))\n",
    "pi=3.14\n",
    "print('the area of circle=',(2*pi*radius))"
   ]
  },
  {
   "cell_type": "code",
   "execution_count": 23,
   "metadata": {},
   "outputs": [
    {
     "name": "stdout",
     "output_type": "stream",
     "text": [
      "enter the num1:2\n",
      "enter the num2:3\n",
      "numbers after swapping:\n",
      "num1= 3\n",
      "num2= 2\n"
     ]
    }
   ],
   "source": [
    "#9.program to swap two numbers\n",
    "num1=int(input('enter the num1:'))\n",
    "num2=int(input('enter the num2:'))\n",
    "num1=num1+num2\n",
    "num2=num1-num2\n",
    "num1=num1-num2\n",
    "print('numbers after swapping:')\n",
    "print('num1=',num1)\n",
    "print('num2=',num2)\n"
   ]
  },
  {
   "cell_type": "code",
   "execution_count": null,
   "metadata": {},
   "outputs": [],
   "source": []
  }
 ],
 "metadata": {
  "kernelspec": {
   "display_name": "Python 3",
   "language": "python",
   "name": "python3"
  },
  "language_info": {
   "codemirror_mode": {
    "name": "ipython",
    "version": 3
   },
   "file_extension": ".py",
   "mimetype": "text/x-python",
   "name": "python",
   "nbconvert_exporter": "python",
   "pygments_lexer": "ipython3",
   "version": "3.8.3"
  }
 },
 "nbformat": 4,
 "nbformat_minor": 4
}
