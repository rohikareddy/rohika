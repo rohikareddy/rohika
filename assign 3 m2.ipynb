{
 "cells": [
  {
   "cell_type": "code",
   "execution_count": 1,
   "metadata": {},
   "outputs": [
    {
     "name": "stdout",
     "output_type": "stream",
     "text": [
      "radius:3.5\n",
      "area: 38.48451000647496\n"
     ]
    }
   ],
   "source": [
    "#1.Write a Python program to find area of a circle using math function.\n",
    "import math\n",
    "def area(r):\n",
    "    a= math.pi*r*r\n",
    "    print('area:',a)\n",
    "area(float(input('radius:')))"
   ]
  },
  {
   "cell_type": "code",
   "execution_count": 4,
   "metadata": {},
   "outputs": [
    {
     "name": "stdout",
     "output_type": "stream",
     "text": [
      "enter radius:3.5\n",
      "area: 38.48451000647496\n"
     ]
    }
   ],
   "source": [
    "#                         (or)\n",
    "#1.Write a Python program to find area of a circle using math function.\n",
    "import math\n",
    "r=float(input('enter radius:'))\n",
    "a=math.pi*r*r\n",
    "print('area:',a)"
   ]
  },
  {
   "cell_type": "code",
   "execution_count": 30,
   "metadata": {},
   "outputs": [
    {
     "name": "stdout",
     "output_type": "stream",
     "text": [
      "enter number of sides:4\n",
      "enter length of each side:20\n",
      "area of rectangular ppolygon: 400.00000000000006\n"
     ]
    }
   ],
   "source": [
    "#2.Write a program to find Area of Regular Polygon using math function.\n",
    "import math\n",
    "n=int(input('enter number of sides:'))\n",
    "s=int(input('enter length of each side:'))\n",
    "area=(s**2*n)/(4*math.tan(math.pi/n))\n",
    "print('area of rectangular ppolygon:',area)"
   ]
  },
  {
   "cell_type": "code",
   "execution_count": 25,
   "metadata": {},
   "outputs": [
    {
     "name": "stdout",
     "output_type": "stream",
     "text": [
      "enter radius:10\n",
      "enter angle:90\n",
      "area of minor segment: 28.53981633974483\n",
      "area of major segment: 285.6194490192345\n"
     ]
    }
   ],
   "source": [
    "#3.Write a program to find  Area of a Segment of a Circle Formula using math function.\n",
    "import math\n",
    "r=int(input('enter radius:'))\n",
    "angle=int(input('enter angle:'))\n",
    "print('area of minor segment:',area(r,angle))\n",
    "print('area of major segment:',area(r,(360-angle)))\n",
    "def area(r,angle):\n",
    "    area_sector=math.pi*(r*r)*(angle/360)\n",
    "    area_triangle=1/2*(r*r)*math.sin((angle*math.pi)/180) \n",
    "    segment=area_sector-area_triangle\n",
    "    return segment"
   ]
  },
  {
   "cell_type": "code",
   "execution_count": 35,
   "metadata": {},
   "outputs": [
    {
     "name": "stdout",
     "output_type": "stream",
     "text": [
      "the given list: [100, 1, 2, 3, 30, 40, 'hai', 'hello']\n",
      "the shuffled list: [30, 3, 1, 100, 40, 'hello', 2, 'hai']\n"
     ]
    }
   ],
   "source": [
    "#4.Write a python program to shuffle list l1=[100,1,2,3,30,40,”hai”,”hello”].\n",
    "import random\n",
    "l1=[100,1,2,3,30,40,'hai','hello']\n",
    "print('the given list:',(l1))\n",
    "random.shuffle(l1)\n",
    "print('the shuffled list:',(l1))"
   ]
  },
  {
   "cell_type": "code",
   "execution_count": 37,
   "metadata": {},
   "outputs": [
    {
     "name": "stdout",
     "output_type": "stream",
     "text": [
      "random number of list is:\n",
      "6811\n",
      "random number of range 50 is:\n",
      "4701\n"
     ]
    }
   ],
   "source": [
    "#5.Write a program to generate random numbers between 1,10000 and\n",
    "#difference between each random number is 50.\n",
    "import random\n",
    "print('random number of list is:')\n",
    "print(random.choice(range(1,10000)))\n",
    "print('random number of range 50 is:')\n",
    "print(random.randrange(1,10000,50))"
   ]
  },
  {
   "cell_type": "code",
   "execution_count": 31,
   "metadata": {},
   "outputs": [
    {
     "name": "stdout",
     "output_type": "stream",
     "text": [
      "sin60: -0.3048106211022167\n",
      "cos(pi): 3.141592653589793\n",
      "tan90: -1.995200412208242\n",
      "angle of 0.8660: 43.64563193711739\n",
      "5^8: 390625.0\n",
      "Square root of 400: 20.0\n",
      "The value of 5^e: 79.43235916621322\n",
      "The value of Log(1024), base 2: 10.0\n",
      "The value of Log(1024), base 10: 3.010299956639812\n",
      "The Floor and Ceiling value of 23.56: 23\n"
     ]
    }
   ],
   "source": [
    "#6.Write a python program by using math module to find\n",
    "#i.Sin600\n",
    "#ii.cos(pi)\n",
    "#iii.tan900\n",
    "#iv.angle of sin(0.8660254037844386)\n",
    "#v.5^8\n",
    "#vi.Square root of 400\n",
    "#vii.The value of 5^e\n",
    "#viii.The value of Log(1024), base 2\n",
    "#ix.The value of Log(1024), base 10\n",
    "#x.The Floor and Ceiling value of 23.56 \n",
    "import math\n",
    "print('sin60:',math.sin(60))\n",
    "print('cos(pi):',math.pi)\n",
    "print('tan90:',math.tan(90))\n",
    "print('angle of 0.8660:',math.degrees(math.sin(0.8660254037844386)))\n",
    "print('5^8:',math.pow(5,8))\n",
    "print('Square root of 400:',math.sqrt(400))\n",
    "print('The value of 5^e:',math.pow(5,math.e))\n",
    "print('The value of Log(1024), base 2:',math.log2(1024))\n",
    "print('The value of Log(1024), base 10:',math.log10(1024))\n",
    "print('The Floor and Ceiling value of 23.56:',math.floor(23.56))"
   ]
  },
  {
   "cell_type": "code",
   "execution_count": 58,
   "metadata": {},
   "outputs": [],
   "source": []
  },
  {
   "cell_type": "code",
   "execution_count": null,
   "metadata": {},
   "outputs": [],
   "source": []
  },
  {
   "cell_type": "code",
   "execution_count": null,
   "metadata": {},
   "outputs": [],
   "source": []
  }
 ],
 "metadata": {
  "kernelspec": {
   "display_name": "Python 3",
   "language": "python",
   "name": "python3"
  },
  "language_info": {
   "codemirror_mode": {
    "name": "ipython",
    "version": 3
   },
   "file_extension": ".py",
   "mimetype": "text/x-python",
   "name": "python",
   "nbconvert_exporter": "python",
   "pygments_lexer": "ipython3",
   "version": "3.8.3"
  }
 },
 "nbformat": 4,
 "nbformat_minor": 4
}
