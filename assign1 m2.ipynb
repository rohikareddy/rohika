{
 "cells": [
  {
   "cell_type": "code",
   "execution_count": 3,
   "metadata": {},
   "outputs": [
    {
     "name": "stdout",
     "output_type": "stream",
     "text": [
      "enter string2:qbc\n",
      "enter string2:qbc\n",
      "strings are not equal\n"
     ]
    }
   ],
   "source": [
    "#1.Take two inputs from user and check whether they are equal or not.\n",
    "a= str(input('enter string2:'))\n",
    "b= str(input('enter string2:'))\n",
    "if a==b:\n",
    "    print('strings are equal')\n",
    "else: print('strings are equal')"
   ]
  },
  {
   "cell_type": "code",
   "execution_count": 9,
   "metadata": {},
   "outputs": [
    {
     "name": "stdout",
     "output_type": "stream",
     "text": [
      "enter num1:1\n",
      "enter num2:2\n",
      "enter num3:1\n",
      "two inputs are equal\n"
     ]
    }
   ],
   "source": [
    "#2.Take 3 inputs from user and check :\n",
    "#        all are equal\n",
    "#           any of two are equal\n",
    "#          ( use and or )\n",
    "\n",
    "a=int(input('enter num1:'))\n",
    "b=int(input('enter num2:'))\n",
    "c=int(input('enter num3:'))\n",
    "if a==b==c:\n",
    "    print('all are equal')\n",
    "elif a==b!=c or a!=b==c or a==c!=b:\n",
    "    print('two inputs are equal')"
   ]
  },
  {
   "cell_type": "code",
   "execution_count": 12,
   "metadata": {},
   "outputs": [
    {
     "name": "stdout",
     "output_type": "stream",
     "text": [
      "enter num1:1\n",
      "enter num2:1\n",
      "sum is lesser than 5\n"
     ]
    }
   ],
   "source": [
    "#3.Take two number and check whether the sum is greater than 5, less than 5 or equal to 5.\n",
    "a=int(input('enter num1:'))\n",
    "b=int(input('enter num2:'))\n",
    "c=a+b\n",
    "if c>5:\n",
    "    print('sum is greater than 5')\n",
    "elif c<5:\n",
    "    print('sum is lesser than 5')\n",
    "else: print('sum is equal to 5')"
   ]
  },
  {
   "cell_type": "code",
   "execution_count": 15,
   "metadata": {},
   "outputs": [
    {
     "name": "stdout",
     "output_type": "stream",
     "text": [
      "enter marks:20\n",
      "lesser than passing marks\n"
     ]
    }
   ],
   "source": [
    "#4.Suppose passing marks of a subject is 35. Take input of marks from user\n",
    "#and check whether it is greater than passing marks or not.\n",
    "marks=int(input('enter marks:'))\n",
    "if marks>35:\n",
    "    print('greater than passing marks')\n",
    "elif marks<35:\n",
    "    print('lesser than passing marks')\n",
    "else: print('marks are equal to 35')\n"
   ]
  },
  {
   "cell_type": "code",
   "execution_count": 3,
   "metadata": {},
   "outputs": [
    {
     "name": "stdout",
     "output_type": "stream",
     "text": [
      "enter num1:2\n",
      "enter num2:34\n",
      "enter num3:56\n",
      "c is greater 56\n"
     ]
    }
   ],
   "source": [
    "#5.Write a Python function to find the Max of three numbers\n",
    "a=int(input('enter num1:'))\n",
    "b=int(input('enter num2:'))\n",
    "c=int(input('enter num3:'))\n",
    "if a>b and a>c:\n",
    "    print('a is greater',a)\n",
    "elif b>a and b>c:\n",
    "    print('b is greater',b)\n",
    "else:\n",
    "    print('c is greater',c)\n"
   ]
  },
  {
   "cell_type": "code",
   "execution_count": null,
   "metadata": {},
   "outputs": [],
   "source": []
  },
  {
   "cell_type": "code",
   "execution_count": null,
   "metadata": {},
   "outputs": [],
   "source": []
  }
 ],
 "metadata": {
  "kernelspec": {
   "display_name": "Python 3",
   "language": "python",
   "name": "python3"
  },
  "language_info": {
   "codemirror_mode": {
    "name": "ipython",
    "version": 3
   },
   "file_extension": ".py",
   "mimetype": "text/x-python",
   "name": "python",
   "nbconvert_exporter": "python",
   "pygments_lexer": "ipython3",
   "version": "3.8.3"
  }
 },
 "nbformat": 4,
 "nbformat_minor": 4
}
