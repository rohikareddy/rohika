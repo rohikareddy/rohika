{
 "cells": [
  {
   "cell_type": "code",
   "execution_count": 60,
   "metadata": {},
   "outputs": [
    {
     "name": "stdout",
     "output_type": "stream",
     "text": [
      "enter a string:gitam\n",
      "5\n"
     ]
    }
   ],
   "source": [
    "#1.program to caluclate the length of a string\n",
    "a=input('enter a string:')\n",
    "print(len(a))"
   ]
  },
  {
   "cell_type": "code",
   "execution_count": 61,
   "metadata": {},
   "outputs": [
    {
     "name": "stdout",
     "output_type": "stream",
     "text": [
      "enter a string:gitam university\n",
      "no of characters: 16\n"
     ]
    }
   ],
   "source": [
    "#2.program to count the no of characters in a string\n",
    "a=input('enter a string:')\n",
    "count=0\n",
    "for char in a:\n",
    "    count=count+1\n",
    "print('no of characters:',count)"
   ]
  },
  {
   "cell_type": "code",
   "execution_count": 18,
   "metadata": {},
   "outputs": [
    {
     "name": "stdout",
     "output_type": "stream",
     "text": [
      "enter string1:badam\n",
      "enter string1:milk\n",
      "midam balk\n"
     ]
    }
   ],
   "source": [
    "#3.Write a Python program to get a single string from two given strings,\n",
    "#separated by a space and swap the first two characters of each string\n",
    "a=input('enter string1:')\n",
    "b=input('enter string1:')\n",
    "x= b[:2] + a[2:]\n",
    "y= a[:2] + b[2:]\n",
    "print(x,y)"
   ]
  },
  {
   "cell_type": "code",
   "execution_count": 2,
   "metadata": {},
   "outputs": [
    {
     "name": "stdout",
     "output_type": "stream",
     "text": [
      "enter string:rags\n",
      "uppercase: RAGS\n",
      "lowercase: rags\n"
     ]
    }
   ],
   "source": [
    "#4.Write a Python script that takes input from the user and displays that input back in upper and lower cases.\n",
    "str=input(\"enter string:\")\n",
    "print('uppercase:',str.upper())\n",
    "print('lowercase:',str.lower())"
   ]
  },
  {
   "cell_type": "code",
   "execution_count": 19,
   "metadata": {},
   "outputs": [
    {
     "name": "stdout",
     "output_type": "stream",
     "text": [
      "h\n",
      "e\n",
      "l\n",
      "l\n",
      "o\n",
      " \n",
      "w\n",
      "o\n",
      "r\n",
      "l\n",
      "d\n"
     ]
    }
   ],
   "source": [
    "#5.Write a Python program to remove a newline in Python.\n",
    "a='hell\\no world\\n'\n",
    "for  i in a:\n",
    "    if i=='\\n':\n",
    "        continue\n",
    "    else:\n",
    "        print(i)\n"
   ]
  },
  {
   "cell_type": "code",
   "execution_count": 20,
   "metadata": {},
   "outputs": [
    {
     "name": "stdout",
     "output_type": "stream",
     "text": [
      "no of substrings: 6\n"
     ]
    }
   ],
   "source": [
    "#6.Write a Python program to count occurrences of a substring in a string.\n",
    "str='hello world how are you today'\n",
    "count=1\n",
    "for i in str:\n",
    "    if i==' ':\n",
    "        count=count+1;\n",
    "print('no of substrings:',count)"
   ]
  },
  {
   "cell_type": "code",
   "execution_count": 21,
   "metadata": {},
   "outputs": [
    {
     "name": "stdout",
     "output_type": "stream",
     "text": [
      "['hello', 'world', 'how', 'are', 'you', 'today']\n"
     ]
    }
   ],
   "source": [
    "#7.Write a Python program to convert a string in a list.\n",
    "a='hello world how are you today'\n",
    "print(list(a.split(' ')))"
   ]
  },
  {
   "cell_type": "code",
   "execution_count": 22,
   "metadata": {},
   "outputs": [
    {
     "name": "stdout",
     "output_type": "stream",
     "text": [
      "enter string:hello\n",
      "ello\n"
     ]
    }
   ],
   "source": [
    "#8.Write a Python program to perform Deletion of a character \n",
    "a=input('enter string:')\n",
    "print(a.strip('h'))"
   ]
  },
  {
   "cell_type": "code",
   "execution_count": 23,
   "metadata": {},
   "outputs": [
    {
     "name": "stdout",
     "output_type": "stream",
     "text": [
      "enter string:cse b2\n",
      "c\n",
      "s\n",
      "e\n",
      " \n",
      "b\n",
      "2\n"
     ]
    }
   ],
   "source": [
    "#9.Write a program to print every character of a string entered by user in a new line using loop. \n",
    "a=input('enter string:')\n",
    "for i in a:\n",
    "    print(i) "
   ]
  },
  {
   "cell_type": "code",
   "execution_count": 24,
   "metadata": {},
   "outputs": [
    {
     "name": "stdout",
     "output_type": "stream",
     "text": [
      "length: 12\n"
     ]
    }
   ],
   "source": [
    "#10.Write a program to find the length of the string \"refrigerator\" without using len function. \n",
    "str='refrigerator'\n",
    "count=0\n",
    "for i in str:\n",
    "    count=count+1\n",
    "print('length:',count)"
   ]
  },
  {
   "cell_type": "code",
   "execution_count": null,
   "metadata": {},
   "outputs": [],
   "source": []
  },
  {
   "cell_type": "code",
   "execution_count": null,
   "metadata": {},
   "outputs": [],
   "source": []
  },
  {
   "cell_type": "code",
   "execution_count": null,
   "metadata": {},
   "outputs": [],
   "source": []
  },
  {
   "cell_type": "code",
   "execution_count": null,
   "metadata": {},
   "outputs": [],
   "source": []
  }
 ],
 "metadata": {
  "kernelspec": {
   "display_name": "Python 3",
   "language": "python",
   "name": "python3"
  },
  "language_info": {
   "codemirror_mode": {
    "name": "ipython",
    "version": 3
   },
   "file_extension": ".py",
   "mimetype": "text/x-python",
   "name": "python",
   "nbconvert_exporter": "python",
   "pygments_lexer": "ipython3",
   "version": "3.8.3"
  }
 },
 "nbformat": 4,
 "nbformat_minor": 4
}
