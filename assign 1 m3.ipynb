{
 "cells": [
  {
   "cell_type": "code",
   "execution_count": 9,
   "metadata": {},
   "outputs": [
    {
     "name": "stdout",
     "output_type": "stream",
     "text": [
      "enter a binary number:1000\n",
      "the decimal value of the number is: 8\n"
     ]
    }
   ],
   "source": [
    "#1.program to convert binary number to decimal\n",
    "num=list(input('enter a binary number:'))\n",
    "value=0\n",
    "for i in range(len(num)):\n",
    "    digit=num.pop()\n",
    "    if digit=='1':\n",
    "        value=value+pow(2,i)\n",
    "print('the decimal value of the number is:',value)"
   ]
  },
  {
   "cell_type": "code",
   "execution_count": 13,
   "metadata": {},
   "outputs": [
    {
     "name": "stdout",
     "output_type": "stream",
     "text": [
      "enter n value:10\n",
      "the fibonacci series is:\n",
      "0\n",
      "1\n",
      "1\n",
      "2\n",
      "3\n",
      "5\n",
      "8\n",
      "13\n",
      "21\n",
      "34\n"
     ]
    }
   ],
   "source": [
    "#2.program to print n fibonacci series\n",
    "n=int(input('enter n value:'))\n",
    "print('the fibonacci series is:')\n",
    "first=0\n",
    "second=1\n",
    "if n==1:\n",
    "    print('0')\n",
    "if n==2:\n",
    "    print('0')\n",
    "    print('1')\n",
    "else:\n",
    "    i=1\n",
    "    print('0')\n",
    "    print('1')    \n",
    "    while i<=n-2:\n",
    "        next=first+second\n",
    "        print(next)\n",
    "        first=second\n",
    "        second=next\n",
    "        i=i+1"
   ]
  },
  {
   "cell_type": "code",
   "execution_count": 14,
   "metadata": {},
   "outputs": [
    {
     "name": "stdout",
     "output_type": "stream",
     "text": [
      "enter k value:5\n",
      "5 * 1 = 5\n",
      "5 * 2 = 10\n",
      "5 * 3 = 15\n",
      "5 * 4 = 20\n",
      "5 * 5 = 25\n",
      "5 * 6 = 30\n",
      "5 * 7 = 35\n",
      "5 * 8 = 40\n",
      "5 * 9 = 45\n",
      "5 * 10 = 50\n"
     ]
    }
   ],
   "source": [
    "#3.program to print k multiplication table\n",
    "k=int(input('enter k value:'))\n",
    "for i in range(1,11):\n",
    "    print(k,'*',i,'=',k*i)"
   ]
  },
  {
   "cell_type": "code",
   "execution_count": 16,
   "metadata": {},
   "outputs": [
    {
     "name": "stdout",
     "output_type": "stream",
     "text": [
      "value is:2\n",
      "value is:2\n",
      "value is:2\n",
      "value is:2\n",
      "value is:2\n",
      "value is:2\n",
      "value is:2\n",
      "value is:2\n",
      "value is:2\n",
      "value is:2\n",
      "2.0\n"
     ]
    }
   ],
   "source": [
    "#4A.take ten integers from keyboard using loop and print their average valve\n",
    "add=0\n",
    "for i in range(1,11):\n",
    "    n=int(input('value is:'))\n",
    "    add=add+n\n",
    "print(add/10)"
   ]
  },
  {
   "cell_type": "code",
   "execution_count": 6,
   "metadata": {},
   "outputs": [
    {
     "name": "stdout",
     "output_type": "stream",
     "text": [
      "enter n value:5\n",
      "enter n value:10\n",
      "5\n"
     ]
    }
   ],
   "source": [
    "# 5.program to find GCD or HCF of given two numbers\n",
    "a=int(input('enter n value:'))\n",
    "b=int(input('enter n value:'))\n",
    "gcd=1\n",
    "i=1\n",
    "while i<=a and i<=b:\n",
    "    if a%i==0 and b%i==0:\n",
    "        gcd=i\n",
    "    i=i+1\n",
    "print(gcd)"
   ]
  },
  {
   "cell_type": "code",
   "execution_count": 17,
   "metadata": {},
   "outputs": [
    {
     "name": "stdout",
     "output_type": "stream",
     "text": [
      "enter the word:gitam\n",
      "the reversed string is: matig\n"
     ]
    }
   ],
   "source": [
    "#6.program to print the given word in reverse order\n",
    "word=str(input('enter the word:'))\n",
    "print('the reversed string is:',word[::-1])"
   ]
  },
  {
   "cell_type": "code",
   "execution_count": 18,
   "metadata": {},
   "outputs": [
    {
     "name": "stdout",
     "output_type": "stream",
     "text": [
      "even numbers in series: 5\n",
      "odd numbers in series: 5\n"
     ]
    }
   ],
   "source": [
    "#7.program to find no of even and odd numbers in given series\n",
    "even=0\n",
    "odd=0\n",
    "series=[1,2,3,4,5,6,7,8,9,10]\n",
    "for i in series:\n",
    "    if i%2==0:\n",
    "        even=even+1\n",
    "    else:\n",
    "        odd=odd+1\n",
    "print('even numbers in series:',even)\n",
    "print('odd numbers in series:',odd)"
   ]
  },
  {
   "cell_type": "code",
   "execution_count": 25,
   "metadata": {},
   "outputs": [
    {
     "name": "stdout",
     "output_type": "stream",
     "text": [
      "0\n",
      "1\n",
      "2\n",
      "4\n",
      "5\n"
     ]
    }
   ],
   "source": [
    "#8.program to print all the numbers from 0 to 6 except 3 and 6\n",
    "print('0')\n",
    "for i in range (0,7):\n",
    "    if i%3==0:\n",
    "        continue\n",
    "    else:\n",
    "        print(i)"
   ]
  },
  {
   "cell_type": "code",
   "execution_count": 8,
   "metadata": {},
   "outputs": [
    {
     "name": "stdout",
     "output_type": "stream",
     "text": [
      "*\r\n",
      "**\r\n",
      "***\r\n",
      "****\r\n"
     ]
    }
   ],
   "source": [
    "#4B.program to print pattern\n",
    "#   *\n",
    "#   * *\n",
    "#   * * *\n",
    "#   * * * *\n",
    "rows=4\n",
    "for i in range(0,rows):\n",
    "    for j in range(0,i+1):\n",
    "        print('*',end='')\n",
    "    print('\\r')"
   ]
  },
  {
   "cell_type": "markdown",
   "metadata": {},
   "source": []
  },
  {
   "cell_type": "code",
   "execution_count": null,
   "metadata": {},
   "outputs": [],
   "source": []
  },
  {
   "cell_type": "code",
   "execution_count": null,
   "metadata": {},
   "outputs": [],
   "source": []
  },
  {
   "cell_type": "code",
   "execution_count": null,
   "metadata": {},
   "outputs": [],
   "source": []
  }
 ],
 "metadata": {
  "kernelspec": {
   "display_name": "Python 3",
   "language": "python",
   "name": "python3"
  },
  "language_info": {
   "codemirror_mode": {
    "name": "ipython",
    "version": 3
   },
   "file_extension": ".py",
   "mimetype": "text/x-python",
   "name": "python",
   "nbconvert_exporter": "python",
   "pygments_lexer": "ipython3",
   "version": "3.8.3"
  }
 },
 "nbformat": 4,
 "nbformat_minor": 4
}
