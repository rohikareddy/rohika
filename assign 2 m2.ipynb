{
 "cells": [
  {
   "cell_type": "code",
   "execution_count": 39,
   "metadata": {},
   "outputs": [
    {
     "name": "stdout",
     "output_type": "stream",
     "text": [
      "enter num1:5\n",
      "enter num2:5\n",
      "enter num3:5\n",
      "5 is greater\n"
     ]
    }
   ],
   "source": [
    "#1.program to print largest of two numbers\n",
    "n1=int(input('enter num1:'))\n",
    "n2=int(input('enter num2:'))\n",
    "n3=int(input('enter num3:'))\n",
    "if n1>=n2 and n1>=n3:\n",
    "    print(n1,'is greater')\n",
    "elif n2>=n3 and n2>=n1:\n",
    "    print(n2,'is greater')\n",
    "elif n3>=n1 and n3>=n2:\n",
    "    print(n3,'is greater')"
   ]
  },
  {
   "cell_type": "code",
   "execution_count": 44,
   "metadata": {},
   "outputs": [
    {
     "name": "stdout",
     "output_type": "stream",
     "text": [
      "enter string:mom\n",
      "given string is palindrome\n"
     ]
    }
   ],
   "source": [
    "#2.program to reverse a string\n",
    "a=str(input('enter string:'))\n",
    "b=a[::-1]\n",
    "print('reversed:',b)\n",
   ]
  },
  {
   "cell_type": "code",
   "execution_count": 79,
   "metadata": {},
   "outputs": [
    {
     "name": "stdout",
     "output_type": "stream",
     "text": [
      "enter num:29\n",
      "prime number\n"
     ]
    }
   ],
   "source": [
    "#3.program to check the given number is prime or not\n",
    "n=int(input('enter num:'))\n",
    "temp=n\n",
    "reverse=1\n",
    "digit=0\n",
    "if(n>1):\n",
    "    for i in range(2,n):\n",
    "        if(n%i==0):\n",
    "            print('not prime number')\n",
    "            break\n",
    "    else:\n",
    "        print('prime number')\n",
    "else:\n",
    "    print('not prime number')\n"
   ]
  },
  {
   "cell_type": "code",
   "execution_count": 71,
   "metadata": {},
   "outputs": [
    {
     "name": "stdout",
     "output_type": "stream",
     "text": [
      "enter a number:1234321\n",
      "palindrome\n",
      "done\n"
     ]
    }
   ],
   "source": [
    "#4.program to find palindrome(number) using try except finally\n",
    "try:\n",
    "    n=int(input('enter a number:'))\n",
    "except:\n",
    "    print('enter valid input of integer type')\n",
    "else:\n",
    "    temp=n\n",
    "    rev=0\n",
    "    while (n>0):\n",
    "        digit=n%10\n",
    "        rev=rev*10+digit\n",
    "        n=n//10\n",
    "    if rev==temp:\n",
    "        print('palindrome')\n",
    "    else:\n",
    "        print('not a palindrome')\n",
    "finally:\n",
    "    print('done')\n"
   ]
  },
  {
   "cell_type": "code",
   "execution_count": null,
   "metadata": {},
   "outputs": [],
   "source": []
  },
  {
   "cell_type": "code",
   "execution_count": 3,
   "metadata": {},
   "outputs": [
    {
     "name": "stdout",
     "output_type": "stream",
     "text": [
      "enter n value:5\n",
      "the sum of the squares of first n natural numbers is: 55\n"
     ]
    }
   ],
   "source": [
    "#5.program to find sum of the squares of first n natural numbers\n",
    "n=int(input('enter n value:'))\n",
    "t,s=0,0\n",
    "for i in range(1,n+1):\n",
    "    s=i*i\n",
    "    t=t+s\n",
    "    i=i+1\n",
    "print('the sum of the squares of first n natural numbers is:',t) "
   ]
  },
  {
   "cell_type": "code",
   "execution_count": null,
   "metadata": {},
   "outputs": [],
   "source": []
  },
  {
   "cell_type": "code",
   "execution_count": null,
   "metadata": {},
   "outputs": [],
   "source": []
  },
  {
   "cell_type": "code",
   "execution_count": null,
   "metadata": {},
   "outputs": [],
   "source": []
  }
 ],
 "metadata": {
  "kernelspec": {
   "display_name": "Python 3",
   "language": "python",
   "name": "python3"
  },
  "language_info": {
   "codemirror_mode": {
    "name": "ipython",
    "version": 3
   },
   "file_extension": ".py",
   "mimetype": "text/x-python",
   "name": "python",
   "nbconvert_exporter": "python",
   "pygments_lexer": "ipython3",
   "version": "3.8.3"
  }
 },
 "nbformat": 4,
 "nbformat_minor": 4
}
