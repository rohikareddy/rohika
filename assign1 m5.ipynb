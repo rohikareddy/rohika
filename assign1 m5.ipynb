{
 "cells": [
  {
   "cell_type": "raw",
   "metadata": {},
   "source": [
    "**** question 1 and question2 are same****\n",
    "#1.What is dictionary in Python? Explain with an example?\n",
    "Dictionary in Python is an unordered collection of data values, used to store data values like a map, which unlike other Data Types that hold only single value as an element, Dictionary holds key:value pair."
   ]
  },
  {
   "cell_type": "code",
   "execution_count": 3,
   "metadata": {},
   "outputs": [
    {
     "name": "stdout",
     "output_type": "stream",
     "text": [
      "{'name': 'rohika', 'section': 'B', 'reg no': '321810302024'}\n"
     ]
    }
   ],
   "source": [
    "#example\n",
    "a=dict()\n",
    "a['name']='rohika'\n",
    "a['section']='B'\n",
    "a['reg no']='321810302024'\n",
    "print(a)"
   ]
  },
  {
   "cell_type": "code",
   "execution_count": 4,
   "metadata": {},
   "outputs": [
    {
     "name": "stdout",
     "output_type": "stream",
     "text": [
      "15\n"
     ]
    }
   ],
   "source": [
    "#3.program to summ all the elements in the list\n",
    "a=[1,2,3,4,5]\n",
    "count=0\n",
    "for i in a:\n",
    "    count=count+i\n",
    "print(count)"
   ]
  },
  {
   "cell_type": "code",
   "execution_count": 5,
   "metadata": {},
   "outputs": [
    {
     "name": "stdout",
     "output_type": "stream",
     "text": [
      "[{}, {}, {}]\n"
     ]
    }
   ],
   "source": [
    "#4.Write a Python program to create a list of empty dictionaries.\n",
    "n=3\n",
    "l=[{} for _ in range(n)]\n",
    "print(l)"
   ]
  },
  {
   "cell_type": "code",
   "execution_count": 12,
   "metadata": {},
   "outputs": [
    {
     "name": "stdout",
     "output_type": "stream",
     "text": [
      "the directory is: {'englih': 51, 'python': 58, 'DS': 57}\n",
      "the key elements are:\n",
      "englih\n",
      "python\n",
      "DS\n"
     ]
    }
   ],
   "source": [
    "#5.Write a Python program to access dictionary keys element by index.\n",
    "a={'englih':51,'python':58,'DS':57 }\n",
    "print('the directory is:',a)\n",
    "print('the key elements are:')\n",
    "for i in a:\n",
    "    print(i)"
   ]
  },
  {
   "cell_type": "code",
   "execution_count": 16,
   "metadata": {},
   "outputs": [
    {
     "name": "stdout",
     "output_type": "stream",
     "text": [
      "englih 51\n",
      "python 58\n",
      "DS 57\n"
     ]
    }
   ],
   "source": [
    "#6.Python program to iterate over dictionaries using for loop.\n",
    "a={'englih':51,'python':58,'DS':57 }\n",
    "for key,val in a.items():\n",
    "    print(key,val)\n"
   ]
  },
  {
   "cell_type": "code",
   "execution_count": 18,
   "metadata": {},
   "outputs": [
    {
     "name": "stdout",
     "output_type": "stream",
     "text": [
      "the sum of key values in directory: 35\n"
     ]
    }
   ],
   "source": [
    "#7.Python program to sum all items in the dictionary\n",
    "a={\"a\":12,\"b\":8,\"c\":15}\n",
    "sum=0\n",
    "for key,val in a.items():\n",
    "    sum=sum+val\n",
    "print('the sum of key values in directory:',sum)"
   ]
  },
  {
   "cell_type": "code",
   "execution_count": 19,
   "metadata": {},
   "outputs": [
    {
     "name": "stdout",
     "output_type": "stream",
     "text": [
      "{1: 10, 2: 20, 3: 30, 4: 40, 5: 50, 6: 60}\n"
     ]
    }
   ],
   "source": [
    "#8.write a python script to concatenate the following dictionaries to create a new one.\n",
    "#sample dictionary dic1={1:10,2:20} dic2={3:30,4:40} dic3={5:50,6:60}\n",
    "dic1={1:10,2:20}\n",
    "dic2={3:30,4:40}\n",
    "dic3={5:50,6:60}\n",
    "dic4={}\n",
    "for d in (dic1,dic2,dic3):\n",
    "    dic4.update(d)\n",
    "print(dic4)"
   ]
  },
  {
   "cell_type": "code",
   "execution_count": 12,
   "metadata": {},
   "outputs": [
    {
     "name": "stdout",
     "output_type": "stream",
     "text": [
      "<class 'tuple'>\n",
      "(1, 2, 3)\n"
     ]
    }
   ],
   "source": [
    "#10.program to create tuple\n",
    "a=(1,2,3)\n",
    "print(type(a))\n",
    "print(a)"
   ]
  },
  {
   "cell_type": "code",
   "execution_count": 13,
   "metadata": {},
   "outputs": [
    {
     "name": "stdout",
     "output_type": "stream",
     "text": [
      "<class 'tuple'>\n",
      "('gitam', 10, 'python')\n"
     ]
    }
   ],
   "source": [
    "#11.program with multipule datatypes in a tuple\n",
    "a=('gitam',10,'python')\n",
    "print(type(a))\n",
    "print(a)"
   ]
  },
  {
   "cell_type": "code",
   "execution_count": 20,
   "metadata": {},
   "outputs": [
    {
     "name": "stdout",
     "output_type": "stream",
     "text": [
      "<class 'tuple'>\n",
      "after convertion:\n",
      "<class 'str'>\n"
     ]
    }
   ],
   "source": [
    "#12.program to convert the tuple into a string\n",
    "a=tuple('gitam')\n",
    "print(type(a))\n",
    "print(\"after convertion:\")\n",
    "b=a\n",
    "c=str(b)\n",
    "print(type(c))"
   ]
  },
  {
   "cell_type": "code",
   "execution_count": 39,
   "metadata": {},
   "outputs": [
    {
     "name": "stdout",
     "output_type": "stream",
     "text": [
      "gitam\n",
      "('gitam', '121')\n",
      "('gitam', '121', 'python')\n",
      "i\n",
      "o\n"
     ]
    }
   ],
   "source": [
    "#13.program to slice a tuple\n",
    "a=('gitam','121','python')\n",
    "print(a[0])\n",
    "print(a[:-1])\n",
    "print(a[-5:])\n",
    "print(a[0][1])\n",
    "print(a[2][4])\n"
   ]
  },
  {
   "cell_type": "code",
   "execution_count": 43,
   "metadata": {},
   "outputs": [
    {
     "name": "stdout",
     "output_type": "stream",
     "text": [
      "5\n",
      "3\n",
      "10\n",
      "3\n"
     ]
    }
   ],
   "source": [
    "#14.program to find the length of a tuple\n",
    "a=('gitam','123','university')\n",
    "print(len(a[0]))\n",
    "print(len(a[1]))\n",
    "print(len(a[2]))\n",
    "print(len(a))"
   ]
  },
  {
   "cell_type": "code",
   "execution_count": 24,
   "metadata": {},
   "outputs": [
    {
     "name": "stdout",
     "output_type": "stream",
     "text": [
      "{'english': [51], 'python': [57], 'cpp': [56]}\n"
     ]
    }
   ],
   "source": [
    "#15.write a python program to convert a tuple into a dictionary.\n",
    "def convert(tup,di):\n",
    "    for a,b in tup:\n",
    "        di.setdefault(a,[]).append(b)\n",
    "    return di\n",
    "tups=[('english',51),('python',57),('cpp',56)]\n",
    "dictionary={}\n",
    "print(convert(tups,dictionary))\n"
   ]
  },
  {
   "cell_type": "code",
   "execution_count": 48,
   "metadata": {},
   "outputs": [
    {
     "name": "stdout",
     "output_type": "stream",
     "text": [
      "('university', '123', 'gitam')\n",
      "321\n",
      "matig\n",
      "ytisrevinu\n"
     ]
    }
   ],
   "source": [
    "#16.program to reverse a tuple\n",
    "a=('gitam','123','university')\n",
    "print(a[::-1])\n",
    "print(a[1][::-1])\n",
    "print(a[0][::-1])\n",
    "print(a[2][::-1])"
   ]
  },
  {
   "cell_type": "code",
   "execution_count": 26,
   "metadata": {},
   "outputs": [
    {
     "name": "stdout",
     "output_type": "stream",
     "text": [
      "{'x': [1], 'y': [2], 'z': [3]}\n"
     ]
    }
   ],
   "source": [
    "#17.write a python program to convert a list of tuples into a dictionary.\n",
    "l=[(\"x\",1),(\"y\",2),(\"z\",3)]\n",
    "d={}\n",
    "for a,b in l:\n",
    "    d.setdefault(a, []).append(b)\n",
    "print(d)"
   ]
  },
  {
   "cell_type": "code",
   "execution_count": 32,
   "metadata": {},
   "outputs": [
    {
     "name": "stdout",
     "output_type": "stream",
     "text": [
      "(1, 2, 3, 4)\n"
     ]
    }
   ],
   "source": [
    "#18.write a python program to convert a list in to a tuple.\n",
    "def convert(list): \n",
    "    return (*list, ) \n",
    "list = [1, 2, 3, 4] \n",
    "print(convert(list)) "
   ]
  },
  {
   "cell_type": "code",
   "execution_count": null,
   "metadata": {},
   "outputs": [],
   "source": []
  },
  {
   "cell_type": "code",
   "execution_count": null,
   "metadata": {},
   "outputs": [],
   "source": []
  }
 ],
 "metadata": {
  "kernelspec": {
   "display_name": "Python 3",
   "language": "python",
   "name": "python3"
  },
  "language_info": {
   "codemirror_mode": {
    "name": "ipython",
    "version": 3
   },
   "file_extension": ".py",
   "mimetype": "text/x-python",
   "name": "python",
   "nbconvert_exporter": "python",
   "pygments_lexer": "ipython3",
   "version": "3.8.3"
  }
 },
 "nbformat": 4,
 "nbformat_minor": 4
}
